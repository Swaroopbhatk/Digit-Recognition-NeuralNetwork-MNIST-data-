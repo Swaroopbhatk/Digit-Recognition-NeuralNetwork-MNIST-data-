{
 "cells": [
  {
   "cell_type": "code",
   "execution_count": 1,
   "metadata": {
    "collapsed": true
   },
   "outputs": [],
   "source": [
    "import pandas as pd\n",
    "import numpy as np \n",
    "import matplotlib.pyplot as plt #To plot the reduction in error\n",
    "import sklearn # To plot ROC\n",
    "from sklearn import metrics #To plot confusion matrix\n",
    "import seaborn as sns #Heat map used for confusion matrix\n",
    "from mnist import MNIST # To unload the ubyte data - Image data set\n",
    "import itertools\n",
    "import time"
   ]
  },
  {
   "cell_type": "code",
   "execution_count": 2,
   "metadata": {
    "collapsed": true
   },
   "outputs": [],
   "source": [
    "# Load the data set\n",
    "mndata = MNIST('samples')\n",
    "images1, labels1 = mndata.load_training()\n",
    "# or\n",
    "images2, labels2 = mndata.load_testing()"
   ]
  },
  {
   "cell_type": "code",
   "execution_count": 3,
   "metadata": {
    "collapsed": true
   },
   "outputs": [],
   "source": [
    "train = pd.DataFrame(images1)\n",
    "train['Target'] = labels1\n",
    "test = pd.DataFrame(images2)\n",
    "test['Target'] = labels2"
   ]
  },
  {
   "cell_type": "code",
   "execution_count": 4,
   "metadata": {
    "collapsed": true
   },
   "outputs": [],
   "source": [
    "train = train.loc[(train['Target'] == 3) | (train['Target'] == 9)]\n",
    "test = test.loc[(test['Target'] == 3) | (test['Target'] == 9)]"
   ]
  },
  {
   "cell_type": "code",
   "execution_count": 5,
   "metadata": {
    "collapsed": true
   },
   "outputs": [],
   "source": [
    "train_y = train[\"Target\"]\n",
    "train_x = train.drop(['Target'], axis=1).as_matrix()\n",
    "test_y = test[\"Target\"]\n",
    "test_x = test.drop(['Target'], axis=1).as_matrix()\n",
    "train_x = sklearn.preprocessing.normalize(train_x, norm='max')\n",
    "test_x = sklearn.preprocessing.normalize(test_x, norm='max')"
   ]
  },
  {
   "cell_type": "code",
   "execution_count": 6,
   "metadata": {
    "collapsed": true
   },
   "outputs": [],
   "source": [
    "# Converting to numpy array\n",
    "train_y = np.asarray(train_y).reshape(len(train_y), 1)\n",
    "test_y = np.asarray(test_y).reshape(len(test_y), 1)\n",
    "train_y = np.where(train_y == 3, 0, 1).reshape(len(train_y), 1)\n",
    "test_y = np.where(test_y == 3, 0, 1).reshape(len(test_y), 1)"
   ]
  },
  {
   "cell_type": "code",
   "execution_count": 7,
   "metadata": {
    "collapsed": true
   },
   "outputs": [],
   "source": [
    "train_x = train_x[:7000]\n",
    "train_y = train_y[:7000]\n",
    "test_x = test_x[:1000]\n",
    "test_y = test_y[:1000]"
   ]
  },
  {
   "cell_type": "code",
   "execution_count": 36,
   "metadata": {},
   "outputs": [],
   "source": [
    "#0.0009 and 200, 0.005\n",
    "class NeuralNet():\n",
    "    def __init__(self, train_x, train_y, test_x, \n",
    "                 test_y, hidden_layers = 2, hidden_node = 200, learning_rate=0.0009, epoch=70, regParam=0.005):\n",
    "        self.op_node = 1\n",
    "        self.learning_rate= learning_rate\n",
    "        self.hidden_node = hidden_node\n",
    "        self.hidden_layers = hidden_layers\n",
    "        self.train_x = train_x\n",
    "        self.train_y = train_y\n",
    "        self.test_x = test_x\n",
    "        self.test_y = test_y\n",
    "        self.input_node = train_x.shape[1]\n",
    "        self.epoch = epoch\n",
    "        self.train_predict = None\n",
    "        self.error = None\n",
    "        self.test_predict = None\n",
    "        self.regParam = regParam\n",
    "        self.rmse = None\n",
    "        self.root_mse = None\n",
    "        self.t = None\n",
    "\n",
    "\n",
    "        # Initialising Random Weights\n",
    "        if self.hidden_layers == 1:\n",
    "            self.w1_ly1 = np.random.randn(self.input_node, self.hidden_node)\n",
    "            self.b1_ly1 = np.zeros((1, self.hidden_node))\n",
    "            self.w2_ly2 = np.random.randn(self.hidden_node, self.op_node)\n",
    "            self.b2_ly2 = np.zeros((1, self.op_node))\n",
    "        \n",
    "        if self.hidden_layers == 2:\n",
    "            self.w1_ly1 = np.random.randn(self.input_node, self.hidden_node)\n",
    "            self.b1_ly1 = np.zeros((1, self.hidden_node))\n",
    "            self.w2_ly2 = np.random.randn(self.hidden_node, self.hidden_node)\n",
    "            self.b2_ly2 = np.zeros((1, self.hidden_node))\n",
    "            self.w3_ly3 = np.random.randn(self.hidden_node, self.op_node)\n",
    "            self.b3_ly3 = np.zeros((1, self.op_node))\n",
    "            \n",
    "            \n",
    "    def activation(self, z):\n",
    "        return 1 / (1 + np.exp(-z))\n",
    "        \n",
    "    \n",
    "    def gradient_descent(self, tdelta1, tdelta2, tb1, tb2, tdelta3=0, tb3=0):\n",
    "        if self.hidden_layers == 1:\n",
    "            self.w1_ly1 = self.w1_ly1 - self.learning_rate*(tdelta1 + (self.regParam * self.w1_ly1))\n",
    "            self.w2_ly2 = self.w2_ly2 - self.learning_rate*(tdelta2 + (self.regParam * self.w2_ly2))\n",
    "            self.b1_ly1 = self.b1_ly1 - self.learning_rate*tb1\n",
    "            self.b2_ly2 = self.b2_ly2 - self.learning_rate*tb2\n",
    "            \n",
    "        if self.hidden_layers == 2:\n",
    "            self.w1_ly1 = self.w1_ly1 - self.learning_rate*(tdelta1 + (self.regParam * self.w1_ly1))\n",
    "            self.w2_ly2 = self.w2_ly2 - self.learning_rate*(tdelta2 + (self.regParam * self.w2_ly2))\n",
    "            self.w3_ly3 = self.w3_ly3 - self.learning_rate*(tdelta3 + (self.regParam * self.w3_ly3))\n",
    "            self.b1_ly1 = self.b1_ly1 - self.learning_rate*tb1\n",
    "            self.b2_ly2 = self.b2_ly2 - self.learning_rate*tb2\n",
    "            self.b3_ly3 = self.b3_ly3 - self.learning_rate*tb3\n",
    "            \n",
    "    def adam_gradient_descent(self, vdw1, vdw2, vdw3, vb1, vb2, vb3, sdw1, sdw2, sdw3, sb1, sb2, sb3):\n",
    "        epsilon = 0.0000001\n",
    "        if self.hidden_layers ==2:\n",
    "            self.w1_ly1 = self.w1_ly1 - self.learning_rate*(vdw1/np.sqrt(sdw1+epsilon))\n",
    "            self.w2_ly2 = self.w2_ly2 - self.learning_rate*(vdw2/np.sqrt(sdw2+epsilon))\n",
    "            self.w3_ly3 = self.w3_ly3 - self.learning_rate*(vdw3/np.sqrt(sdw3+epsilon))\n",
    "            self.b1_ly1 = self.b1_ly1 - self.learning_rate*(vb1/np.sqrt(sb1+epsilon))\n",
    "            self.b2_ly2 = self.b2_ly2 - self.learning_rate*(vb2/np.sqrt(sb2+epsilon))\n",
    "            self.b3_ly3 = self.b3_ly3 - self.learning_rate*(vb3/np.sqrt(sb3+epsilon))\n",
    "        \n",
    "        \n",
    "        \n",
    "    def trainNN(self):\n",
    "        rmse = []\n",
    "        root_mse = []\n",
    "        \n",
    "        for ep in range(self.epoch):\n",
    "            s = 0\n",
    "            error = []\n",
    "            act_func = []\n",
    "            self.t = 1\n",
    "            vdw1 = 0\n",
    "            vdw2 = 0\n",
    "            vdw3 = 0\n",
    "            sdw1 = 0\n",
    "            sdw2 = 0\n",
    "            sdw3 = 0\n",
    "            vb1 = 0\n",
    "            vb2 = 0\n",
    "            vb3 = 0\n",
    "            sb1 = 0\n",
    "            sb2 = 0\n",
    "            sb3 = 0\n",
    "            beta1 = 0.9\n",
    "            beta2 = 0.999\n",
    "            \n",
    "            \n",
    "            for batch in [1000, 2000, 3000, 4000, 5000, 6000, 7000]:\n",
    "                train_x = self.train_x[s:batch]\n",
    "                train_y = self.train_y[s:batch]\n",
    "                #print(s)\n",
    "                s=s+len(train_x)\n",
    "                \n",
    "                if self.hidden_layers == 1:\n",
    "                    #Forward Feed\n",
    "                    a1 = train_x\n",
    "                    z2 = np.dot(a1, self.w1_ly1) + self.b1_ly1\n",
    "                    a2 = self.activation(z2)\n",
    "                    z3 = np.dot(a2, self.w2_ly2) + self.b2_ly2\n",
    "                    a3 = self.activation(z3)\n",
    "                    er = a3 - train_y\n",
    "                    error.append(er)\n",
    "\n",
    "                    #Backward propogation\n",
    "                    delta2 = er*a3*(1-a3)  # a3*(1-a3) is same as derivative of sigmoid finction\n",
    "                    delta1 = np.dot(delta2, self.w2_ly2.T)*a2*(1 - a2)\n",
    "                    tdelta2 = np.dot(a2.T, delta2)\n",
    "                    tdelta1 = np.dot(train_x.T, delta1)\n",
    "                    tb2 = np.sum(delta2, axis=0).reshape(1, self.op_node)\n",
    "                    tb1 = np.sum(delta1,axis=0).reshape(1, self.hidden_node)\n",
    "                    self.gradient_descent(tdelta1, tdelta2, tb1, tb2)\n",
    "                    act_func.append(a3)\n",
    "\n",
    "                if self.hidden_layers == 2:\n",
    "                    #Forward Propogation\n",
    "                    a1 = train_x\n",
    "                    z2 = np.dot(a1, self.w1_ly1) + self.b1_ly1\n",
    "                    a2 = self.activation(z2)\n",
    "                    z3 = np.dot(a2, self.w2_ly2) + self.b2_ly2\n",
    "                    a3 = self.activation(z3)\n",
    "                    z4 = np.dot(a3, self.w3_ly3) + self.b3_ly3\n",
    "                    a4 = self.activation(z4)\n",
    "                    er = a4 - train_y\n",
    "                    error.append(er)\n",
    "\n",
    "                    #Backward propogation\n",
    "                    delta3 = er*a4*(1-a4)\n",
    "                    delta2 = np.dot(delta3, self.w3_ly3.T)*a3*(1 - a3)\n",
    "                    delta1 = np.dot(delta2, self.w2_ly2.T)*a2*(1 - a2)\n",
    "                    tdelta3 = np.dot(a3.T, delta3)\n",
    "                    tdelta2 = np.dot(a2.T, delta2)\n",
    "                    tdelta1 = np.dot(train_x.T, delta1)\n",
    "                    tb3 = np.sum(delta3, axis=0).reshape(1, self.op_node)\n",
    "                    tb2 = np.sum(delta2,axis=0).reshape(1, self.hidden_node)\n",
    "                    tb1 = np.sum(delta1,axis=0).reshape(1, self.hidden_node)\n",
    "                    #self.gradient_descent(tdelta1, tdelta2, tb1, tb2, tdelta3, tb3)\n",
    "                    act_func.append(a4)\n",
    "                    \n",
    "                    self.t = self.t+1\n",
    "                    vdw1 = ((vdw1*beta1)+((1-beta1)*tdelta1))/(1-beta1**self.t)\n",
    "                    vdw2 = ((vdw2*beta1)+((1-beta1)*tdelta2))/(1-beta1**self.t)\n",
    "                    vdw3 = ((vdw3*beta1)+((1-beta1)*tdelta3))/(1-beta1**self.t)\n",
    "                    vb1 = ((vb1*beta1)+((1-beta1)*tb1))/(1-beta1**self.t)\n",
    "                    vb2 = ((vb2*beta1)+((1-beta1)*tb2))/(1-beta1**self.t)\n",
    "                    vb3 = ((vb3*beta1)+((1-beta1)*tb3))/(1-beta1**self.t)\n",
    "                    sdw1 = ((sdw1*beta2)+((1-beta2)*np.square(tdelta1)))/(1-beta2**self.t)\n",
    "                    sdw2 = ((sdw2*beta2)+((1-beta2)*np.square(tdelta2)))/(1-beta2**self.t)\n",
    "                    sdw3 = ((sdw3*beta2)+((1-beta2)*np.square(tdelta3)))/(1-beta2**self.t)\n",
    "                    sb1 = ((sb1*beta2)+((1-beta2)*np.square(tb1)))/(1-beta2**self.t)\n",
    "                    sb2 = ((sb2*beta2)+((1-beta2)*np.square(tb2)))/(1-beta2**self.t)\n",
    "                    sb3 = ((sb3*beta2)+((1-beta2)*np.square(tb3)))/(1-beta2**self.t)\n",
    "                    self.adam_gradient_descent(vdw1, vdw2, vdw3, vb1, vb2, vb3, sdw1, sdw2, sdw3, sb1, sb2, sb3)\n",
    "                    \n",
    "                    \n",
    "            act_func = list(itertools.chain.from_iterable(act_func))\n",
    "            error = list(itertools.chain.from_iterable(error))\n",
    "            act_func = np.asarray(act_func).reshape(len(act_func), 1)\n",
    "            error = np.asarray(error).reshape(len(error), 1)\n",
    "            mean_error = np.sum(error)/len(error)\n",
    "            rmse.append(mean_error)\n",
    "            root_error = np.sqrt(np.sum(error**2)/len(error))\n",
    "            root_mse.append(root_error)\n",
    "            self.error = np.asarray(error)\n",
    "            self.train_predict = np.asarray(act_func)\n",
    "            \n",
    "            if ep in [1, 4, 6, 10, 20, 30, 40, 50, 60, 65, 69]:\n",
    "                accuracy = 1-np.sum(abs(np.asarray(error)))/len(np.asarray(error))\n",
    "                print(\"Accuracy is:  {0:.4f}, for epoch:{1}\".format(accuracy, ep))\n",
    "            #break\n",
    "                    \n",
    "        self.rmse = rmse\n",
    "        self.root_mse = root_mse\n",
    "        \n",
    "        \n",
    "    def predict_digit(self):\n",
    "        \n",
    "        if self.hidden_layers == 1:\n",
    "                #Forward Feed\n",
    "                a1 = self.test_x\n",
    "                z2 = np.dot(a1, self.w1_ly1) + self.b1_ly1\n",
    "                a2 = self.activation(z2)\n",
    "                z3 = np.dot(a2, self.w2_ly2) + self.b2_ly2\n",
    "                a3 = self.activation(z3)\n",
    "                \n",
    "                self.test_predict = np.round(a3)\n",
    "        \n",
    "        if self.hidden_layers == 2:\n",
    "                #Forward Propogation\n",
    "                a1 = self.test_x\n",
    "                z2 = np.dot(a1, self.w1_ly1) + self.b1_ly1\n",
    "                a2 = self.activation(z2)\n",
    "                z3 = np.dot(a2, self.w2_ly2) + self.b2_ly2\n",
    "                a3 = self.activation(z3)\n",
    "                z4 = np.dot(a3, self.w3_ly3) + self.b3_ly3\n",
    "                a4 = self.activation(z4)\n",
    "                \n",
    "                self.test_predict = np.round(a4)"
   ]
  },
  {
   "cell_type": "code",
   "execution_count": 37,
   "metadata": {},
   "outputs": [
    {
     "name": "stdout",
     "output_type": "stream",
     "text": [
      "Accuracy is:  0.5001, for epoch:1\n",
      "Accuracy is:  0.5228, for epoch:4\n",
      "Accuracy is:  0.5601, for epoch:6\n",
      "Accuracy is:  0.6723, for epoch:10\n",
      "Accuracy is:  0.8528, for epoch:20\n",
      "Accuracy is:  0.9162, for epoch:30\n",
      "Accuracy is:  0.9401, for epoch:40\n",
      "Accuracy is:  0.9518, for epoch:50\n",
      "Accuracy is:  0.9614, for epoch:60\n",
      "Accuracy is:  0.9652, for epoch:65\n",
      "Accuracy is:  0.9674, for epoch:69\n"
     ]
    },
    {
     "data": {
      "image/png": "[encoded data removed]",
      "text/plain": [
       "<matplotlib.figure.Figure at 0x2a126c90f0>"
      ]
     },
     "metadata": {},
     "output_type": "display_data"
    },
    {
     "data": {
      "image/png": "[encoded data removed]",
      "text/plain": [
       "<matplotlib.figure.Figure at 0x2a126c9828>"
      ]
     },
     "metadata": {},
     "output_type": "display_data"
    },
    {
     "data": {
      "image/png": "[encoded data removed]",
      "text/plain": [
       "<matplotlib.figure.Figure at 0x2a122c5da0>"
      ]
     },
     "metadata": {},
     "output_type": "display_data"
    },
    {
     "data": {
      "image/png": "[encoded data removed]",
      "text/plain": [
       "<matplotlib.figure.Figure at 0x2a11d4b470>"
      ]
     },
     "metadata": {},
     "output_type": "display_data"
    },
    {
     "name": "stdout",
     "output_type": "stream",
     "text": [
      "Test Accuracy:  0.952\n",
      "Elapsed Time For Training is:  37.929789304733276\n"
     ]
    }
   ],
   "source": [
    "start_time = time.time()\n",
    "new = NeuralNet(train_x, train_y, test_x, test_y)\n",
    "new.trainNN()\n",
    "new.predict_digit()\n",
    "\n",
    "plt.plot(new.root_mse)\n",
    "plt.title(\"RMSE vs Epoch - Training Phase\")\n",
    "plt.xlabel(\"Number of Epoch\")\n",
    "plt.ylabel(\"RMSE\")\n",
    "plt.show()\n",
    "\n",
    "\n",
    "plt.plot(new.rmse)\n",
    "plt.title(\"Mean Error vs Epoch - Training Phase\")\n",
    "plt.xlabel(\"Number of Epoch\")\n",
    "plt.ylabel(\"Mean Error\")\n",
    "plt.show()\n",
    "\n",
    "\n",
    "fpr, tpr, thresholds = sklearn.metrics.roc_curve(new.test_y, new.test_predict, \n",
    "                                                 pos_label=None, sample_weight=None, drop_intermediate=True)\n",
    "plt.plot(fpr, tpr)\n",
    "plt.title(\"ROC - Test Phase\")\n",
    "plt.xlabel(\"False Positive Rate\")\n",
    "plt.ylabel(\"True Positive Rate\")\n",
    "plt.show()\n",
    "\n",
    "ax=plt.axes()\n",
    "arr = metrics.confusion_matrix(new.test_y, new.test_predict, sample_weight=None)\n",
    "con_df = pd.DataFrame(arr, columns = [\"Predicted_0\", \"Predicted_1\"], index=[\"Actual_0\", \"Actual_1\"])\n",
    "sns.heatmap(con_df, annot=True,annot_kws={\"size\": 8}, fmt='g', cmap='Blues', ax=ax)\n",
    "ax.set_title('Confusion Matrix - Test Phase')\n",
    "plt.show()\n",
    "\n",
    "print('Test Accuracy: ', 1-np.sum(abs(new.test_y - new.test_predict))/len(new.test_predict))\n",
    "elapsed_time = time.time() - start_time\n",
    "print(\"Elapsed Time For Training is: \", elapsed_time)"
   ]
  }
 ],
 "metadata": {
  "kernelspec": {
   "display_name": "Python 3",
   "language": "python",
   "name": "python3"
  },
  "language_info": {
   "codemirror_mode": {
    "name": "ipython",
    "version": 3
   },
   "file_extension": ".py",
   "mimetype": "text/x-python",
   "name": "python",
   "nbconvert_exporter": "python",
   "pygments_lexer": "ipython3",
   "version": "3.6.3"
  }
 },
 "nbformat": 4,
 "nbformat_minor": 2
}
