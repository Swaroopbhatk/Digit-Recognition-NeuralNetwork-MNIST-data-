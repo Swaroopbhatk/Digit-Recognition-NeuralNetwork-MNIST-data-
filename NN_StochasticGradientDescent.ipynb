{
 "cells": [
  {
   "cell_type": "code",
   "execution_count": 1,
   "metadata": {
    "collapsed": true
   },
   "outputs": [],
   "source": [
    "import pandas as pd\n",
    "import numpy as np \n",
    "import matplotlib.pyplot as plt #To plot the reduction in error\n",
    "import sklearn # To plot ROC\n",
    "from sklearn import metrics #To plot confusion matrix\n",
    "import seaborn as sns #Heat map used for confusion matrix\n",
    "from mnist import MNIST # To unload the ubyte data - Image data set"
   ]
  },
  {
   "cell_type": "code",
   "execution_count": 2,
   "metadata": {
    "collapsed": true
   },
   "outputs": [],
   "source": [
    "# Load the data set\n",
    "mndata = MNIST('samples')\n",
    "images1, labels1 = mndata.load_training()\n",
    "# or\n",
    "images2, labels2 = mndata.load_testing()"
   ]
  },
  {
   "cell_type": "code",
   "execution_count": 3,
   "metadata": {
    "collapsed": true
   },
   "outputs": [],
   "source": [
    "train = pd.DataFrame(images1)\n",
    "train['Target'] = labels1\n",
    "test = pd.DataFrame(images2)\n",
    "test['Target'] = labels2"
   ]
  },
  {
   "cell_type": "code",
   "execution_count": 4,
   "metadata": {
    "collapsed": true
   },
   "outputs": [],
   "source": [
    "train = train.loc[(train['Target'] == 3) | (train['Target'] == 9)]\n",
    "test = test.loc[(test['Target'] == 3) | (test['Target'] == 9)]"
   ]
  },
  {
   "cell_type": "code",
   "execution_count": 5,
   "metadata": {
    "collapsed": true
   },
   "outputs": [],
   "source": [
    "train_y = train[\"Target\"]\n",
    "train_x = train.drop(['Target'], axis=1).as_matrix()\n",
    "test_y = test[\"Target\"]\n",
    "test_x = test.drop(['Target'], axis=1).as_matrix()\n",
    "train_x = sklearn.preprocessing.normalize(train_x, norm='max')\n",
    "test_x = sklearn.preprocessing.normalize(test_x, norm='max')"
   ]
  },
  {
   "cell_type": "code",
   "execution_count": 6,
   "metadata": {
    "collapsed": true
   },
   "outputs": [],
   "source": [
    "# Converting to numpy array\n",
    "train_y = np.asarray(train_y).reshape(len(train_y), 1)\n",
    "test_y = np.asarray(test_y).reshape(len(test_y), 1)\n",
    "train_y = np.where(train_y == 3, 0, 1).reshape(len(train_y), 1)\n",
    "test_y = np.where(test_y == 3, 0, 1).reshape(len(test_y), 1)"
   ]
  },
  {
   "cell_type": "code",
   "execution_count": 41,
   "metadata": {
    "collapsed": true
   },
   "outputs": [],
   "source": [
    "train_x = train_x[:7000]\n",
    "train_y = train_y[:7000]\n",
    "test_x = test_x[:1000]\n",
    "test_y = test_y[:1000]"
   ]
  },
  {
   "cell_type": "code",
   "execution_count": 60,
   "metadata": {
    "collapsed": true
   },
   "outputs": [],
   "source": [
    "#0.02 and 300\n",
    "class NeuralNet():\n",
    "    def __init__(self, train_x, train_y, test_x, \n",
    "                 test_y, hidden_layers = 2, hidden_node = 400, learning_rate=0.02, epoch=10, regParam=0.005):\n",
    "        self.op_node = 1\n",
    "        self.learning_rate= learning_rate\n",
    "        self.hidden_node = hidden_node\n",
    "        self.hidden_layers = hidden_layers\n",
    "        self.train_x = train_x\n",
    "        self.train_y = train_y\n",
    "        self.test_x = test_x\n",
    "        self.test_y = test_y\n",
    "        self.input_node = train_x.shape[1]\n",
    "        self.epoch = epoch\n",
    "        self.train_predict = None\n",
    "        self.error = None\n",
    "        self.test_predict = None\n",
    "        self.regParam = regParam\n",
    "\n",
    "\n",
    "        # Weights\n",
    "        #np.random.seed(3)\n",
    "        if self.hidden_layers == 1:\n",
    "            self.w1_ly1 = np.random.randn(self.input_node, self.hidden_node)\n",
    "            self.b1_ly1 = np.zeros((1, self.hidden_node))\n",
    "            self.w2_ly2 = np.random.randn(self.hidden_node, self.op_node)\n",
    "            self.b2_ly2 = np.zeros((1, self.op_node))\n",
    "        \n",
    "        if self.hidden_layers == 2:\n",
    "            self.w1_ly1 = np.random.randn(self.input_node, self.hidden_node)\n",
    "            self.b1_ly1 = np.zeros((1, self.hidden_node))\n",
    "            self.w2_ly2 = np.random.randn(self.hidden_node, self.hidden_node)\n",
    "            self.b2_ly2 = np.zeros((1, self.hidden_node))\n",
    "            self.w3_ly3 = np.random.randn(self.hidden_node, self.op_node)\n",
    "            self.b3_ly3 = np.zeros((1, self.op_node))\n",
    "            \n",
    "            \n",
    "    def activation(self, z):\n",
    "        return 1 / (1 + np.exp(-z))\n",
    "        \n",
    "    \n",
    "    def gradient_descent(self, tdelta1, tdelta2, tb1, tb2, tdelta3=0, tb3=0):\n",
    "        if self.hidden_layers == 1:\n",
    "            self.w1_ly1 = self.w1_ly1 - self.learning_rate*(tdelta1 + (self.regParam * self.w1_ly1))\n",
    "            self.w2_ly2 = self.w2_ly2 - self.learning_rate*(tdelta2 + (self.regParam * self.w2_ly2))\n",
    "            self.b1_ly1 = self.b1_ly1 - self.learning_rate*tb1\n",
    "            self.b2_ly2 = self.b2_ly2 - self.learning_rate*tb2\n",
    "            \n",
    "        if self.hidden_layers == 2:\n",
    "            self.w1_ly1 = self.w1_ly1 - self.learning_rate*(tdelta1 + (self.regParam * self.w1_ly1))\n",
    "            self.w2_ly2 = self.w2_ly2 - self.learning_rate*(tdelta2 + (self.regParam * self.w2_ly2))\n",
    "            self.w3_ly3 = self.w3_ly3 - self.learning_rate*(tdelta3 + (self.regParam * self.w3_ly3))\n",
    "            self.b1_ly1 = self.b1_ly1 - self.learning_rate*tb1\n",
    "            self.b2_ly2 = self.b2_ly2 - self.learning_rate*tb2\n",
    "            self.b3_ly3 = self.b3_ly3 - self.learning_rate*tb3\n",
    "        \n",
    "        \n",
    "    def trainNN(self):\n",
    "        rmse = []\n",
    "        for ep in range(self.epoch):\n",
    "            errort = []\n",
    "            hyp = []\n",
    "            cnt = 0\n",
    "            \n",
    "            for row in self.train_x:\n",
    "                row = row.reshape(1, len(row))\n",
    "                \n",
    "                if self.hidden_layers == 1:\n",
    "                    #Forward Feed\n",
    "                    a1 = row\n",
    "                    z2 = np.dot(a1, self.w1_ly1) + self.b1_ly1\n",
    "                    a2 = self.activation(z2)\n",
    "                    z3 = np.dot(a2, self.w2_ly2) + self.b2_ly2\n",
    "                    a3 = self.activation(z3)\n",
    "                    error = a3 - self.train_y\n",
    "\n",
    "                    #mean_error = np.sum(error)/len(error)\n",
    "                    #rmse.append(mean_error)\n",
    "\n",
    "                    #Backward propogation\n",
    "                    delta2 = error*a3*(1-a3)  # a3*(1-a3) is same as derivative of sigmoid finction\n",
    "                    delta1 = np.dot(delta2, self.w2_ly2.T)*a2*(1 - a2)\n",
    "                    tdelta2 = np.dot(a2.T, delta2)\n",
    "                    tdelta1 = np.dot(row.T, delta1)\n",
    "                    tb2 = np.sum(delta2, axis=0).reshape(1, self.op_node)\n",
    "                    tb1 = np.sum(delta1,axis=0).reshape(1, self.hidden_node)\n",
    "                    self.gradient_descent(tdelta1, tdelta2, tb1, tb2)\n",
    "                    self.train_predict = a3\n",
    "\n",
    "                if self.hidden_layers == 2:\n",
    "                    #Forward Propogation\n",
    "                    a1 = row\n",
    "                    z2 = np.dot(a1, self.w1_ly1) + self.b1_ly1\n",
    "                    a2 = self.activation(z2)\n",
    "                    z3 = np.dot(a2, self.w2_ly2) + self.b2_ly2\n",
    "                    a3 = self.activation(z3)\n",
    "                    z4 = np.dot(a3, self.w3_ly3) + self.b3_ly3\n",
    "                    a4 = self.activation(z4)\n",
    "                    error = a4 - self.train_y[cnt]\n",
    "\n",
    "                    errort.append(error)\n",
    "                    \n",
    "\n",
    "                    #Backward propogation\n",
    "                    delta3 = error*a4*(1-a4)\n",
    "                    delta2 = np.dot(delta3, self.w3_ly3.T)*a3*(1 - a3)\n",
    "                    delta1 = np.dot(delta2, self.w2_ly2.T)*a2*(1 - a2)\n",
    "                    tdelta3 = np.dot(a3.T, delta3)\n",
    "                    tdelta2 = np.dot(a2.T, delta2)\n",
    "                    tdelta1 = np.dot(row.T, delta1)\n",
    "                    tb3 = np.sum(delta3, axis=0).reshape(1, self.op_node)\n",
    "                    tb2 = np.sum(delta2,axis=0).reshape(1, self.hidden_node)\n",
    "                    tb1 = np.sum(delta1,axis=0).reshape(1, self.hidden_node)\n",
    "                    self.gradient_descent(tdelta1, tdelta2, tb1, tb2, tdelta3, tb3)\n",
    "                    hyp.append(a4)\n",
    "                    cnt = cnt + 1\n",
    "                    #print(cnt)\n",
    "                \n",
    "                self.error = np.asarray(errort)\n",
    "                self.train_predict = np.asarray(hyp)\n",
    "                \n",
    "            if ep in [1,2, 4, 6, 7, 8, 9, 70, 100, 140, 200, 500, 800, 999, 1500, 2000, 2500, 2999]:\n",
    "                accuracy = 1-np.sum(abs(np.asarray(errort)))/len(np.asarray(errort))\n",
    "                print(\"Accuracy is:  {0:.4f}, for epoch:{1}\".format(accuracy, ep))\n",
    "                    \n",
    "        self.rmse = rmse\n",
    "        \n",
    "        \n",
    "    def predict_digit(self):\n",
    "        \n",
    "        if self.hidden_layers == 1:\n",
    "                #Forward Feed\n",
    "                a1 = self.test_x\n",
    "                z2 = np.dot(a1, self.w1_ly1) + self.b1_ly1\n",
    "                a2 = self.activation(z2)\n",
    "                z3 = np.dot(a2, self.w2_ly2) + self.b2_ly2\n",
    "                a3 = self.activation(z3)\n",
    "                \n",
    "                self.test_predict = np.round(a3)\n",
    "        \n",
    "        if self.hidden_layers == 2:\n",
    "                #Forward Propogation\n",
    "                a1 = self.test_x\n",
    "                z2 = np.dot(a1, self.w1_ly1) + self.b1_ly1\n",
    "                a2 = self.activation(z2)\n",
    "                z3 = np.dot(a2, self.w2_ly2) + self.b2_ly2\n",
    "                a3 = self.activation(z3)\n",
    "                z4 = np.dot(a3, self.w3_ly3) + self.b3_ly3\n",
    "                a4 = self.activation(z4)\n",
    "                \n",
    "                self.test_predict = np.round(a4)"
   ]
  },
  {
   "cell_type": "code",
   "execution_count": 61,
   "metadata": {},
   "outputs": [
    {
     "name": "stdout",
     "output_type": "stream",
     "text": [
      "Accuracy is:  0.9240, for epoch:1\n",
      "Accuracy is:  0.8792, for epoch:2\n",
      "Accuracy is:  0.8256, for epoch:4\n",
      "Accuracy is:  0.8208, for epoch:6\n",
      "Accuracy is:  0.8207, for epoch:7\n",
      "Accuracy is:  0.8207, for epoch:8\n",
      "Accuracy is:  0.8207, for epoch:9\n"
     ]
    },
    {
     "data": {
      "image/png": "[encoded data removed]",
      "text/plain": [
       "<matplotlib.figure.Figure at 0x368c44ee10>"
      ]
     },
     "metadata": {},
     "output_type": "display_data"
    },
    {
     "data": {
      "image/png": "[encoded data removed]",
      "text/plain": [
       "<matplotlib.figure.Figure at 0x368c42aa58>"
      ]
     },
     "metadata": {},
     "output_type": "display_data"
    },
    {
     "data": {
      "image/png": "[encoded data removed]",
      "text/plain": [
       "<matplotlib.figure.Figure at 0x368bed41d0>"
      ]
     },
     "metadata": {},
     "output_type": "display_data"
    },
    {
     "name": "stdout",
     "output_type": "stream",
     "text": [
      "Test Accuracy:  0.966\n"
     ]
    }
   ],
   "source": [
    "def main():\n",
    "    new = NeuralNet(train_x, train_y, test_x, test_y)\n",
    "    new.trainNN()\n",
    "    new.predict_digit()\n",
    "\n",
    "    plt.plot(new.rmse)\n",
    "    plt.title(\"Mean Error vs Epoch - Training Phase\")\n",
    "    plt.xlabel(\"Number of Epoch\")\n",
    "    plt.ylabel(\"Mean Error\")\n",
    "    plt.show()\n",
    "\n",
    "    \n",
    "    fpr, tpr, thresholds = sklearn.metrics.roc_curve(new.test_y, new.test_predict, \n",
    "                                                     pos_label=None, sample_weight=None, drop_intermediate=True)\n",
    "    plt.plot(fpr, tpr)\n",
    "    plt.title(\"ROC - Test Phase\")\n",
    "    plt.xlabel(\"False Positive Rate\")\n",
    "    plt.ylabel(\"True Positive Rate\")\n",
    "    plt.show()\n",
    "    \n",
    "    ax=plt.axes()\n",
    "    arr = metrics.confusion_matrix(new.test_y, new.test_predict, sample_weight=None)\n",
    "    con_df = pd.DataFrame(arr, columns = [\"Predicted_0\", \"Predicted_1\"], index=[\"Actual_0\", \"Actual_1\"])\n",
    "    sns.heatmap(con_df, annot=True,annot_kws={\"size\": 8}, fmt='g', cmap='Blues', ax=ax)\n",
    "    ax.set_title('Confusion Matrix - Test Phase')\n",
    "    plt.show()\n",
    "    \n",
    "    print('Test Accuracy: ', 1-np.sum(abs(new.test_y - new.test_predict))/len(new.test_predict))\n",
    "\n",
    "main()"
   ]
  },
  {
   "cell_type": "code",
   "execution_count": null,
   "metadata": {
    "collapsed": true
   },
   "outputs": [],
   "source": []
  },
  {
   "cell_type": "code",
   "execution_count": null,
   "metadata": {
    "collapsed": true
   },
   "outputs": [],
   "source": []
  },
  {
   "cell_type": "code",
   "execution_count": null,
   "metadata": {
    "collapsed": true
   },
   "outputs": [],
   "source": []
  },
  {
   "cell_type": "code",
   "execution_count": null,
   "metadata": {
    "collapsed": true
   },
   "outputs": [],
   "source": []
  },
  {
   "cell_type": "code",
   "execution_count": null,
   "metadata": {
    "collapsed": true
   },
   "outputs": [],
   "source": []
  },
  {
   "cell_type": "code",
   "execution_count": null,
   "metadata": {
    "collapsed": true
   },
   "outputs": [],
   "source": []
  },
  {
   "cell_type": "code",
   "execution_count": null,
   "metadata": {
    "collapsed": true
   },
   "outputs": [],
   "source": []
  },
  {
   "cell_type": "code",
   "execution_count": null,
   "metadata": {
    "collapsed": true
   },
   "outputs": [],
   "source": []
  }
 ],
 "metadata": {
  "kernelspec": {
   "display_name": "Python 3",
   "language": "python",
   "name": "python3"
  },
  "language_info": {
   "codemirror_mode": {
    "name": "ipython",
    "version": 3
   },
   "file_extension": ".py",
   "mimetype": "text/x-python",
   "name": "python",
   "nbconvert_exporter": "python",
   "pygments_lexer": "ipython3",
   "version": "3.6.3"
  }
 },
 "nbformat": 4,
 "nbformat_minor": 2
}
