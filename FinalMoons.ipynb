{
 "cells": [
  {
   "cell_type": "code",
   "execution_count": 1,
   "metadata": {
    "collapsed": true
   },
   "outputs": [],
   "source": [
    "import pandas as pd\n",
    "import numpy as np\n",
    "import matplotlib.pyplot as plt\n",
    "from sklearn import model_selection as cv\n",
    "import math\n",
    "import matplotlib.pyplot as plt\n",
    "from sklearn import metrics\n",
    "import seaborn as sns"
   ]
  },
  {
   "cell_type": "code",
   "execution_count": 2,
   "metadata": {},
   "outputs": [
    {
     "data": {
      "text/html": [
       "<div>\n",
       "<style>\n",
       "    .dataframe thead tr:only-child th {\n",
       "        text-align: right;\n",
       "    }\n",
       "\n",
       "    .dataframe thead th {\n",
       "        text-align: left;\n",
       "    }\n",
       "\n",
       "    .dataframe tbody tr th {\n",
       "        vertical-align: top;\n",
       "    }\n",
       "</style>\n",
       "<table border=\"1\" class=\"dataframe\">\n",
       "  <thead>\n",
       "    <tr style=\"text-align: right;\">\n",
       "      <th></th>\n",
       "      <th>Class</th>\n",
       "      <th>X0</th>\n",
       "      <th>X1</th>\n",
       "    </tr>\n",
       "  </thead>\n",
       "  <tbody>\n",
       "    <tr>\n",
       "      <th>0</th>\n",
       "      <td>1</td>\n",
       "      <td>2.071069</td>\n",
       "      <td>0.411529</td>\n",
       "    </tr>\n",
       "    <tr>\n",
       "      <th>1</th>\n",
       "      <td>0</td>\n",
       "      <td>-0.335398</td>\n",
       "      <td>1.032266</td>\n",
       "    </tr>\n",
       "    <tr>\n",
       "      <th>2</th>\n",
       "      <td>1</td>\n",
       "      <td>1.256631</td>\n",
       "      <td>-0.363937</td>\n",
       "    </tr>\n",
       "    <tr>\n",
       "      <th>3</th>\n",
       "      <td>1</td>\n",
       "      <td>1.269361</td>\n",
       "      <td>-0.379086</td>\n",
       "    </tr>\n",
       "    <tr>\n",
       "      <th>4</th>\n",
       "      <td>0</td>\n",
       "      <td>-0.839940</td>\n",
       "      <td>0.203669</td>\n",
       "    </tr>\n",
       "  </tbody>\n",
       "</table>\n",
       "</div>"
      ],
      "text/plain": [
       "   Class        X0        X1\n",
       "0      1  2.071069  0.411529\n",
       "1      0 -0.335398  1.032266\n",
       "2      1  1.256631 -0.363937\n",
       "3      1  1.269361 -0.379086\n",
       "4      0 -0.839940  0.203669"
      ]
     },
     "execution_count": 2,
     "metadata": {},
     "output_type": "execute_result"
    }
   ],
   "source": [
    "moon = pd.read_csv(\"moons400.csv\")\n",
    "moon.head()"
   ]
  },
  {
   "cell_type": "code",
   "execution_count": 3,
   "metadata": {},
   "outputs": [
    {
     "data": {
      "image/png": "[encoded data removed]",
      "text/plain": [
       "<matplotlib.figure.Figure at 0x6eb2d78780>"
      ]
     },
     "metadata": {},
     "output_type": "display_data"
    }
   ],
   "source": [
    "cla_0 = moon[moon.Class == 0]\n",
    "cla_1 = moon[moon.Class == 1]\n",
    "plt.scatter(cla_0[\"X0\"], cla_0[\"X1\"], color=\"blue\", label=\"Class-0\")\n",
    "plt.scatter(cla_1[\"X0\"], cla_1[\"X1\"], color=\"red\", label=\"Class-1\")\n",
    "plt.xlabel(\"X0\")\n",
    "plt.ylabel(\"X1\")\n",
    "plt.title(\"Scatter plot of X0 vs X1\")\n",
    "plt.legend()\n",
    "plt.show()"
   ]
  },
  {
   "cell_type": "code",
   "execution_count": 4,
   "metadata": {
    "collapsed": true
   },
   "outputs": [],
   "source": [
    "np.random.seed(3)\n",
    "class NeuralNet():\n",
    "    def __init__(self, train, target, x_test, y_test, hidden_layers = 2, neu_hid_layer = 3, learning_rate=0.05, epoch=5000):\n",
    "        self.train = train.as_matrix() # This is a training data set\n",
    "        self.target = target # This is target column that needs to be predicted\n",
    "        self.hidden_layers = hidden_layers \n",
    "        self.neu_hid_layer = neu_hid_layer \n",
    "        self.in_layer = train.as_matrix().shape[1] \n",
    "        self.op_ly = 1\n",
    "        self.learning_rate = learning_rate \n",
    "        self.epoch = epoch\n",
    "        self.x_test = x_test.as_matrix()\n",
    "        self.y_test = y_test.as_matrix()\n",
    "        self.predicted = None\n",
    "        self.test_pred = None\n",
    "\n",
    "        \n",
    "        if self.hidden_layers == 1:\n",
    "        # Initializing Random Weights\n",
    "            self.wt_ly1 = np.random.randn(self.in_layer, self.neu_hid_layer)\n",
    "            self.b_ly1 = np.ones((1, self.neu_hid_layer))\n",
    "            self.wt_ly2 = np.random.randn(self.neu_hid_layer, self.op_ly)\n",
    "            self.b_ly2 = np.ones((1, self.op_ly))\n",
    "        \n",
    "        elif self.hidden_layers == 2:\n",
    "            self.wt_ly1 = np.random.randn(self.in_layer, self.neu_hid_layer)\n",
    "            self.b_ly1 = np.ones((1, self.neu_hid_layer))\n",
    "            self.wt_ly2 = np.random.randn(self.neu_hid_layer, self.neu_hid_layer)\n",
    "            self.b_ly2 = np.ones((1, self.neu_hid_layer))\n",
    "            self.wt_ly3 = np.random.randn(self.neu_hid_layer, self.op_ly)\n",
    "            self.b_ly3 = np.ones((1, self.op_ly))\n",
    "            \n",
    "        \n",
    "    def activation(self, z):\n",
    "        return 1 / (1 + np.exp(-z))\n",
    "    \n",
    "    \n",
    "    def gradient_descent(self, tdelta1, tdelta2, tb1, tb2, tdelta3=0, tb3=0): ## Need to see what can be done here\n",
    "        if self.hidden_layers == 1:\n",
    "            self.wt_ly1 = self.wt_ly1 - (self.learning_rate*tdelta1)\n",
    "            self.wt_ly2 = self.wt_ly2 - (self.learning_rate * tdelta2)\n",
    "            self.b_ly1 = self.b_ly1 - self.learning_rate*tb1\n",
    "            self.b_ly2 = self.b_ly2 - self.learning_rate*tb2\n",
    "        \n",
    "        elif self.hidden_layers == 2:\n",
    "            self.wt_ly1 = self.wt_ly1 - (self.learning_rate*tdelta1)\n",
    "            self.wt_ly2 = self.wt_ly2 - (self.learning_rate * tdelta2)\n",
    "            self.wt_ly3 = self.wt_ly3 - (self.learning_rate * tdelta3)\n",
    "            self.b_ly1 = self.b_ly1 - self.learning_rate*tb1\n",
    "            self.b_ly2 = self.b_ly2 - self.learning_rate*tb2\n",
    "            self.b_ly3 = self.b_ly3 - self.learning_rate*tb3\n",
    "    \n",
    "    def propogation(self):\n",
    "        \n",
    "        if self.hidden_layers == 1:\n",
    "            # Forward Propogation\n",
    "            a1 = np.array(self.train)\n",
    "            z2 = np.dot(self.train, self.wt_ly1) + self.b_ly1\n",
    "            a2 = self.activation(z2)\n",
    "            z3 = np.dot(a2, self.wt_ly2) + self.b_ly2\n",
    "            a3 = self.activation(z3)\n",
    "            error = a3 - np.array(self.target).reshape(len(self.target), 1)\n",
    "        \n",
    "        \n",
    "            #Backward Propogation to find derivative\n",
    "            delta2 = error * a3 * (1-a3)\n",
    "            delta1 = np.dot(delta2,  self.wt_ly2.T) * a2 * (1-a2) #a2*(1-a2) is derivative of sigmoid function\n",
    "            tdelta2 = np.dot(a2.T, delta2)\n",
    "            tdelta1 = np.dot(self.train.T, delta1)\n",
    "            tb2 = np.sum(delta2, axis=0).reshape(np.shape(self.b_ly2))\n",
    "            tb1 = np.sum(delta1, axis=0).reshape(np.shape(self.b_ly1))\n",
    "\n",
    "            # adjust weights by gradient descent\n",
    "            self.gradient_descent(tdelta1, tdelta2, tb1, tb2)\n",
    "        \n",
    "            return a3, error\n",
    "        \n",
    "        elif self.hidden_layers == 2:\n",
    "            #Forward Propogation\n",
    "            a1 = np.array(self.train)\n",
    "            z2 = np.dot(self.train, self.wt_ly1) + self.b_ly1\n",
    "            a2 = self.activation(z2)\n",
    "            z3 = np.dot(a2, self.wt_ly2) + self.b_ly2\n",
    "            a3 = self.activation(z3)\n",
    "            z4 = np.dot(a3, self.wt_ly3) + self.b_ly3\n",
    "            a4 = self.activation(z4)\n",
    "            error = a4 - np.array(self.target).reshape(len(self.target), 1)\n",
    "            \n",
    "            #Backward Propogation\n",
    "            delta3 = error * a4 * (1-a4)\n",
    "            delta2 = np.dot(delta3, self.wt_ly3.T) * a3 * (1-a3)\n",
    "            delta1 = np.dot(delta2,  self.wt_ly2.T) * a2 * (1-a2) #a2*(1-a2) is derivative of sigmoid function\n",
    "            \n",
    "            tdelta3 = np.dot(a3.T, delta3)\n",
    "            tdelta2 = np.dot(a2.T, delta2)\n",
    "            tdelta1 = np.dot(self.train.T, delta1)\n",
    "            tb3 = np.sum(delta3, axis=0).reshape(np.shape(self.b_ly3))\n",
    "            tb2 = np.sum(delta2, axis=0).reshape(np.shape(self.b_ly2))\n",
    "            tb1 = np.sum(delta1, axis=0).reshape(np.shape(self.b_ly1))\n",
    "            \n",
    "            # adjust weights by gradient descent\n",
    "            self.gradient_descent(tdelta1, tdelta2, tb1, tb2, tdelta3, tb3)\n",
    "            \n",
    "            return a4, error\n",
    " \n",
    "    def train_nn(self):\n",
    "        TRMSE = []\n",
    "        display = [2, 4, 5, 500, 1000, 2000, 3000, 4000, 5000, 5999]\n",
    "        for ep in range(self.epoch):\n",
    "            out, error = self.propogation()\n",
    "            self.predicted = out\n",
    "            RMSE = ((np.sum(error) ** 2)**(1/2))/len(self.target)\n",
    "            TRMSE.append(RMSE)\n",
    "            accuracy=1 - RMSE\n",
    "            if ep in display:\n",
    "                print(\"RMSE is: {0:.4f}, Accuracy is:  {1:.4f}, epoch is:{2}\".format(RMSE, accuracy, ep))\n",
    "            \n",
    "        if self.hidden_layers == 1:\n",
    "            \n",
    "            result = {'Weigh1': self.wt_ly1, \n",
    "                      'Weight2':self.wt_ly2, \n",
    "                      'b1':self.b_ly1, \n",
    "                      'b2':self.b_ly2}\n",
    "            \n",
    "        elif self.hidden_layers == 2:\n",
    "            \n",
    "            result = {'Weigh1': self.wt_ly1, \n",
    "                      'Weight2':self.wt_ly2,\n",
    "                      'Weight3':self.wt_ly3,\n",
    "                      'b1':self.b_ly1, \n",
    "                      'b2':self.b_ly2,\n",
    "                      'b3': self.b_ly3}\n",
    "            \n",
    "        #print(\"'This is 3 layer Neural Network'\\n'Input Layer - 2'\\n'Hidden Layer - 1 (3 neurons)\\n'Output Layer - 1'\\n'Activation Function - Sigmoid'\")\n",
    "        print(result)\n",
    "        \n",
    "        return TRMSE\n",
    "\n",
    "\n",
    "    def predictClass(self):\n",
    "        if self.hidden_layers == 1:\n",
    "            # Feed Forward with suitable weights\n",
    "            a1 = np.array(self.x_test)\n",
    "            z2 = np.dot(a1, self.wt_ly1)\n",
    "            a2 = self.activation(z2)\n",
    "            z3 = np.dot(a2, self.wt_ly2)\n",
    "            a3 = self.activation(z3)\n",
    "            self.test_pred = np.round(a3)\n",
    "        \n",
    "        elif self.hidden_layers == 2:\n",
    "            # Feed Forward with suitable weights\n",
    "            a1 = np.array(self.x_test)\n",
    "            z2 = np.dot(a1, self.wt_ly1) + self.b_ly1\n",
    "            a2 = self.activation(z2)\n",
    "            z3 = np.dot(a2, self.wt_ly2) + self.b_ly2\n",
    "            a3 = self.activation(z3)\n",
    "            z4 = np.dot(a3, self.wt_ly3) + self.b_ly3\n",
    "            a4 = self.activation(z4)\n",
    "            self.test_pred = np.round(a4)"
   ]
  },
  {
   "cell_type": "code",
   "execution_count": 12,
   "metadata": {},
   "outputs": [
    {
     "name": "stdout",
     "output_type": "stream",
     "text": [
      "RMSE is: 0.2425, Accuracy is:  0.7575, epoch is:2\n",
      "RMSE is: 0.2079, Accuracy is:  0.7921, epoch is:4\n",
      "RMSE is: 0.2562, Accuracy is:  0.7438, epoch is:5\n",
      "RMSE is: 0.0264, Accuracy is:  0.9736, epoch is:500\n",
      "RMSE is: 0.0023, Accuracy is:  0.9977, epoch is:1000\n",
      "RMSE is: 0.0019, Accuracy is:  0.9981, epoch is:2000\n",
      "RMSE is: 0.0026, Accuracy is:  0.9974, epoch is:3000\n",
      "RMSE is: 0.0040, Accuracy is:  0.9960, epoch is:4000\n",
      "{'Weigh1': array([[ 7.79970294,  5.60042696, -5.10118361],\n",
      "       [-3.67656878,  3.9734781 ,  3.31126565]]), 'Weight2': array([[-5.44906526, -7.19731563, -3.28076217],\n",
      "       [ 4.27576013,  7.75750041,  2.95763663],\n",
      "       [ 4.35246081,  7.43844797,  2.49164258]]), 'Weight3': array([[ -7.05373168],\n",
      "       [-11.38220833],\n",
      "       [ -3.46764433]]), 'b1': array([[ 4.55553077, -4.78134498,  6.46934528]]), 'b2': array([[-0.36912613, -2.52200919, -0.87027071]]), 'b3': array([[ 9.4084226]])}\n"
     ]
    },
    {
     "data": {
      "image/png": "[encoded data removed]",
      "text/plain": [
       "<matplotlib.figure.Figure at 0x2218271da0>"
      ]
     },
     "metadata": {},
     "output_type": "display_data"
    },
    {
     "data": {
      "image/png": "[encoded data removed]",
      "text/plain": [
       "<matplotlib.figure.Figure at 0x221828cdd8>"
      ]
     },
     "metadata": {},
     "output_type": "display_data"
    },
    {
     "name": "stdout",
     "output_type": "stream",
     "text": [
      "Test Accuracy:  0.995\n"
     ]
    }
   ],
   "source": [
    " # Splitting the data for testing and training of neural networks (70 % training data and 30% testing data)\n",
    "#x_train, x_test, y_train, y_test = cv.train_test_split(moon[[\"X0\", \"X1\"]], moon[\"Class\"], test_size=0.30, random_state=50)\n",
    "x = moon[[\"X0\", \"X1\"]]\n",
    "y = moon[\"Class\"]\n",
    "x_train = x\n",
    "y_train = y\n",
    "x_test = x_train\n",
    "y_test = y_train\n",
    "inst = NeuralNet(x_train, y_train, x_test, y_test)\n",
    "\n",
    "def main():\n",
    "    trmse = inst.train_nn()\n",
    "    inst.predictClass()\n",
    "    plt.plot(trmse)\n",
    "    plt.xlabel(\"Number of Epoch\")\n",
    "    plt.ylabel(\"Error\")\n",
    "    plt.title(\"Error vs Epoch - Gradient Descent (Training Phase)\")\n",
    "    plt.show()\n",
    "    \n",
    "    ax=plt.axes()\n",
    "    arr = metrics.confusion_matrix(inst.y_test, inst.test_pred, sample_weight=None)\n",
    "    con_df = pd.DataFrame(arr, columns = [\"Predicted_0\", \"Predicted_1\"], index=[\"Actual_0\", \"Actual_1\"])\n",
    "    sns.heatmap(con_df, annot=True,annot_kws={\"size\": 8}, fmt='g', cmap='Blues', ax=ax)\n",
    "    ax.set_title('Confusion Matrix - Test Phase')\n",
    "    plt.show()\n",
    "    print('Test Accuracy: ', 1-np.sum(abs(inst.test_pred - inst.y_test.reshape(len(inst.y_test), 1)))/len(inst.y_test))\n",
    "  \n",
    "\n",
    "if __name__ == '__main__':\n",
    "    main()"
   ]
  },
  {
   "cell_type": "code",
   "execution_count": null,
   "metadata": {
    "collapsed": true
   },
   "outputs": [],
   "source": []
  },
  {
   "cell_type": "code",
   "execution_count": null,
   "metadata": {
    "collapsed": true
   },
   "outputs": [],
   "source": [
    "inst."
   ]
  }
 ],
 "metadata": {
  "kernelspec": {
   "display_name": "Python 3",
   "language": "python",
   "name": "python3"
  },
  "language_info": {
   "codemirror_mode": {
    "name": "ipython",
    "version": 3
   },
   "file_extension": ".py",
   "mimetype": "text/x-python",
   "name": "python",
   "nbconvert_exporter": "python",
   "pygments_lexer": "ipython3",
   "version": "3.6.3"
  }
 },
 "nbformat": 4,
 "nbformat_minor": 2
}
