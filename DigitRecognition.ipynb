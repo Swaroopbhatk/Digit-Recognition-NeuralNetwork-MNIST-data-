{
 "cells": [
  {
   "cell_type": "code",
   "execution_count": 1,
   "metadata": {
    "collapsed": true
   },
   "outputs": [],
   "source": [
    "import pandas as pd\n",
    "import numpy as np\n",
    "import matplotlib.pyplot as plt\n",
    "import sklearn\n",
    "from sklearn.datasets import *\n",
    "from sklearn import metrics\n",
    "import seaborn as sns"
   ]
  },
  {
   "cell_type": "code",
   "execution_count": 2,
   "metadata": {
    "collapsed": true
   },
   "outputs": [],
   "source": [
    "def displayImage(i):\n",
    "    plt.imshow(digit['images'][i], cmap='Greys_r')\n",
    "    plt.show()"
   ]
  },
  {
   "cell_type": "code",
   "execution_count": 3,
   "metadata": {},
   "outputs": [
    {
     "data": {
      "image/png": "[encoded data removed]",
      "text/plain": [
       "<matplotlib.figure.Figure at 0x5e5179b38>"
      ]
     },
     "metadata": {},
     "output_type": "display_data"
    }
   ],
   "source": [
    "digit = load_digits()\n",
    "dig = pd.DataFrame(digit['data'][0:1708])\n",
    "displayImage(12)"
   ]
  },
  {
   "cell_type": "code",
   "execution_count": 4,
   "metadata": {
    "collapsed": true
   },
   "outputs": [],
   "source": [
    "train_x = pd.DataFrame(digit['data'][:1700])\n",
    "train_y = pd.DataFrame(digit['target'][:1700])\n",
    "test_x = pd.DataFrame(digit['data'][1700:])\n",
    "test_y = pd.DataFrame(digit['target'][1700:])"
   ]
  },
  {
   "cell_type": "code",
   "execution_count": 5,
   "metadata": {
    "collapsed": true
   },
   "outputs": [],
   "source": [
    "train_x[\"Target\"] = train_y\n",
    "test_x[\"Target\"] = test_y\n",
    "train = train_x.loc[(train_x[\"Target\"] == 3) | (train_x[\"Target\"] == 9)]\n",
    "test = test_x.loc[(test_x[\"Target\"] == 3) | (test_x[\"Target\"] == 9)]"
   ]
  },
  {
   "cell_type": "code",
   "execution_count": 6,
   "metadata": {
    "collapsed": true
   },
   "outputs": [],
   "source": [
    "train_y = train[\"Target\"]\n",
    "train_x = train.drop(['Target'], axis=1)\n",
    "test_y = test[\"Target\"]\n",
    "test_x = test.drop(['Target'], axis=1)\n",
    "train_x = sklearn.preprocessing.normalize(train_x, norm='max')\n",
    "test_x = sklearn.preprocessing.normalize(test_x, norm='max')\n",
    "train_x = pd.DataFrame(train_x).as_matrix()\n",
    "test_x = pd.DataFrame(test_x).as_matrix()"
   ]
  },
  {
   "cell_type": "code",
   "execution_count": 7,
   "metadata": {
    "collapsed": true
   },
   "outputs": [],
   "source": [
    "train_y = np.where(train_y == 3, 0, 1).reshape(len(train_y), 1)\n",
    "test_y = np.where(test_y == 3, 0, 1).reshape(len(test_y), 1)"
   ]
  },
  {
   "cell_type": "code",
   "execution_count": null,
   "metadata": {
    "collapsed": true
   },
   "outputs": [],
   "source": []
  },
  {
   "cell_type": "code",
   "execution_count": 8,
   "metadata": {
    "collapsed": true
   },
   "outputs": [],
   "source": [
    "class NeuralNet():\n",
    "    def __init__(self, train_x, train_y, test_x, test_y, hidden_layers = 2, hidden_node = 120, learning_rate=0.02, epoch=1000):\n",
    "        self.op_node = 1\n",
    "        self.learning_rate= learning_rate\n",
    "        self.hidden_node = hidden_node\n",
    "        self.hidden_layers = hidden_layers\n",
    "        self.train_x = train_x\n",
    "        self.train_y = train_y\n",
    "        self.test_x = test_x\n",
    "        self.test_y = test_y\n",
    "        self.input_node = train_x.shape[1]\n",
    "        self.epoch = epoch\n",
    "        self.train_predict = None\n",
    "        self.error = None\n",
    "        self.test_predict = None\n",
    "\n",
    "\n",
    "        # Weights\n",
    "        np.random.seed(3)\n",
    "        if self.hidden_layers == 1:\n",
    "            self.w1_ly1 = np.random.randn(self.input_node, self.hidden_node)\n",
    "            self.b1_ly1 = np.zeros((1, self.hidden_node))\n",
    "            self.w2_ly2 = np.random.randn(self.hidden_node, self.op_node)\n",
    "            self.b2_ly2 = np.zeros((1, self.op_node))\n",
    "        \n",
    "        if self.hidden_layers == 2:\n",
    "            self.w1_ly1 = np.random.randn(self.input_node, self.hidden_node)\n",
    "            self.b1_ly1 = np.zeros((1, self.hidden_node))\n",
    "            self.w2_ly2 = np.random.randn(self.hidden_node, self.hidden_node)\n",
    "            self.b2_ly2 = np.zeros((1, self.hidden_node))\n",
    "            self.w3_ly3 = np.random.randn(self.hidden_node, self.op_node)\n",
    "            self.b3_ly3 = np.zeros((1, self.op_node))\n",
    "            \n",
    "            \n",
    "    def activation(self, z):\n",
    "        return 1 / (1 + np.exp(-z))\n",
    "        \n",
    "    \n",
    "    def gradient_descent(self, tdelta1, tdelta2, tb1, tb2, tdelta3=0, tb3=0):\n",
    "        if self.hidden_layers == 1:\n",
    "            self.w1_ly1 = self.w1_ly1 - self.learning_rate*tdelta1\n",
    "            self.w2_ly2 = self.w2_ly2 - self.learning_rate*tdelta2\n",
    "            self.b1_ly1 = self.b1_ly1 - self.learning_rate*tb1\n",
    "            self.b2_ly2 = self.b2_ly2 - self.learning_rate*tb2\n",
    "            \n",
    "        if self.hidden_layers == 2:\n",
    "            self.w1_ly1 = self.w1_ly1 - self.learning_rate*tdelta1\n",
    "            self.w2_ly2 = self.w2_ly2 - self.learning_rate*tdelta2\n",
    "            self.w3_ly3 = self.w3_ly3 - self.learning_rate*tdelta3\n",
    "            self.b1_ly1 = self.b1_ly1 - self.learning_rate*tb1\n",
    "            self.b2_ly2 = self.b2_ly2 - self.learning_rate*tb2\n",
    "            self.b3_ly3 = self.b3_ly3 - self.learning_rate*tb3\n",
    "        \n",
    "        \n",
    "    def trainNN(self):\n",
    "        rmse = []\n",
    "        for ep in range(self.epoch):\n",
    "            if self.hidden_layers == 1:\n",
    "                #Forward Feed\n",
    "                a1 = self.train_x\n",
    "                z2 = np.dot(a1, self.w1_ly1) + self.b1_ly1\n",
    "                a2 = self.activation(z2)\n",
    "                z3 = np.dot(a2, self.w2_ly2) + self.b2_ly2\n",
    "                a3 = self.activation(z3)\n",
    "                error = a3 - self.train_y\n",
    "                \n",
    "                mean_error = np.sum(error)/len(error)\n",
    "                rmse.append(mean_error)\n",
    "                \n",
    "                #Backward propogation\n",
    "                delta2 = error*a3*(1-a3)  # a3*(1-a3) is same as derivative of sigmoid finction\n",
    "                delta1 = np.dot(delta2, self.w2_ly2.T)*a2*(1 - a2)\n",
    "                tdelta2 = np.dot(a2.T, delta2)\n",
    "                tdelta1 = np.dot(self.train_x.T, delta1)\n",
    "                tb2 = np.sum(delta2, axis=0).reshape(1, self.op_node)\n",
    "                tb1 = np.sum(delta1,axis=0).reshape(1, self.hidden_node)\n",
    "                self.gradient_descent(tdelta1, tdelta2, tb1, tb2)\n",
    "                self.train_predict = a3\n",
    "            \n",
    "            if self.hidden_layers == 2:\n",
    "                #Forward Propogation\n",
    "                a1 = self.train_x\n",
    "                z2 = np.dot(a1, self.w1_ly1) + self.b1_ly1\n",
    "                a2 = self.activation(z2)\n",
    "                z3 = np.dot(a2, self.w2_ly2) + self.b2_ly2\n",
    "                a3 = self.activation(z3)\n",
    "                z4 = np.dot(a3, self.w3_ly3) + self.b3_ly3\n",
    "                a4 = self.activation(z4)\n",
    "                error = a4 - self.train_y\n",
    "                self.error = error\n",
    "                \n",
    "                mean_error = np.sum(error)/len(error)\n",
    "                rmse.append(mean_error)\n",
    "                \n",
    "                #Backward propogation\n",
    "                delta3 = error*a4*(1-a4)\n",
    "                delta2 = np.dot(delta3, self.w3_ly3.T)*a3*(1 - a3)\n",
    "                delta1 = np.dot(delta2, self.w2_ly2.T)*a2*(1 - a2)\n",
    "                tdelta3 = np.dot(a3.T, delta3)\n",
    "                tdelta2 = np.dot(a2.T, delta2)\n",
    "                tdelta1 = np.dot(self.train_x.T, delta1)\n",
    "                tb3 = np.sum(delta3, axis=0).reshape(1, self.op_node)\n",
    "                tb2 = np.sum(delta2,axis=0).reshape(1, self.hidden_node)\n",
    "                tb1 = np.sum(delta1,axis=0).reshape(1, self.hidden_node)\n",
    "                self.gradient_descent(tdelta1, tdelta2, tb1, tb2, tdelta3, tb3)\n",
    "                self.train_predict = a4\n",
    "                \n",
    "                if ep in [10, 70, 100, 140, 200, 500, 800, 999]:\n",
    "                    accuracy = 1-np.sum(abs(error))/len(error)\n",
    "                    print(\"Accuracy is:  {0:.4f}, for epoch:{1}\".format(accuracy, ep))\n",
    "                    \n",
    "        self.rmse = rmse\n",
    "        \n",
    "        \n",
    "    def predict_digit(self):\n",
    "        \n",
    "        if self.hidden_layers == 1:\n",
    "                #Forward Feed\n",
    "                a1 = self.test_x\n",
    "                z2 = np.dot(a1, self.w1_ly1) + self.b1_ly1\n",
    "                a2 = self.activation(z2)\n",
    "                z3 = np.dot(a2, self.w2_ly2) + self.b2_ly2\n",
    "                a3 = self.activation(z3)\n",
    "                \n",
    "                self.test_predict = np.round(a3)\n",
    "        \n",
    "        if self.hidden_layers == 2:\n",
    "                #Forward Propogation\n",
    "                a1 = self.test_x\n",
    "                z2 = np.dot(a1, self.w1_ly1) + self.b1_ly1\n",
    "                a2 = self.activation(z2)\n",
    "                z3 = np.dot(a2, self.w2_ly2) + self.b2_ly2\n",
    "                a3 = self.activation(z3)\n",
    "                z4 = np.dot(a3, self.w3_ly3) + self.b3_ly3\n",
    "                a4 = self.activation(z4)\n",
    "                \n",
    "                self.test_predict = np.round(a4)"
   ]
  },
  {
   "cell_type": "code",
   "execution_count": 9,
   "metadata": {},
   "outputs": [
    {
     "name": "stdout",
     "output_type": "stream",
     "text": [
      "Accuracy is:  0.4971, for epoch:10\n",
      "Accuracy is:  0.4972, for epoch:70\n",
      "Accuracy is:  0.5724, for epoch:100\n",
      "Accuracy is:  0.9853, for epoch:140\n",
      "Accuracy is:  0.9899, for epoch:200\n",
      "Accuracy is:  0.9932, for epoch:500\n",
      "Accuracy is:  0.9941, for epoch:800\n",
      "Accuracy is:  0.9944, for epoch:999\n"
     ]
    },
    {
     "data": {
      "image/png": "[encoded data removed]",
      "text/plain": [
       "<matplotlib.figure.Figure at 0x5dd21d978>"
      ]
     },
     "metadata": {},
     "output_type": "display_data"
    },
    {
     "data": {
      "image/png": "[encoded data removed]",
      "text/plain": [
       "<matplotlib.figure.Figure at 0x5e54a8d68>"
      ]
     },
     "metadata": {},
     "output_type": "display_data"
    },
    {
     "data": {
      "image/png": "[encoded data removed]",
      "text/plain": [
       "<matplotlib.figure.Figure at 0x5e54d0198>"
      ]
     },
     "metadata": {},
     "output_type": "display_data"
    },
    {
     "name": "stdout",
     "output_type": "stream",
     "text": [
      "Test Accuracy:  0.947368421053\n"
     ]
    }
   ],
   "source": [
    "def main():\n",
    "    new = NeuralNet(train_x, train_y, test_x, test_y)\n",
    "    new.trainNN()\n",
    "    new.predict_digit()\n",
    "\n",
    "    plt.plot(new.rmse)\n",
    "    plt.title(\"Mean Error vs Epoch - Training Phase\")\n",
    "    plt.xlabel(\"Number of Epoch\")\n",
    "    plt.ylabel(\"Mean Error\")\n",
    "    plt.show()\n",
    "\n",
    "    \n",
    "    fpr, tpr, thresholds = sklearn.metrics.roc_curve(new.test_y, new.test_predict, \n",
    "                                                     pos_label=None, sample_weight=None, drop_intermediate=True)\n",
    "    plt.plot(fpr, tpr)\n",
    "    plt.title(\"ROC - Test Phase\")\n",
    "    plt.xlabel(\"False Positive Rate\")\n",
    "    plt.ylabel(\"True Positive Rate\")\n",
    "    plt.show()\n",
    "    \n",
    "    ax=plt.axes()\n",
    "    arr = metrics.confusion_matrix(new.test_y, new.test_predict, sample_weight=None)\n",
    "    con_df = pd.DataFrame(arr, columns = [\"Predicted_0\", \"Predicted_1\"], index=[\"Actual_0\", \"Actual_1\"])\n",
    "    sns.heatmap(con_df, annot=True,annot_kws={\"size\": 8}, fmt='g', cmap='Blues', ax=ax)\n",
    "    ax.set_title('Confusion Matrix - Test Phase')\n",
    "    plt.show()\n",
    "    \n",
    "   \n",
    "    \n",
    "    print('Test Accuracy: ', 1-np.sum(abs(new.test_y - new.test_predict))/len(new.test_predict))\n",
    "\n",
    "main()"
   ]
  },
  {
   "cell_type": "code",
   "execution_count": null,
   "metadata": {
    "collapsed": true
   },
   "outputs": [],
   "source": []
  },
  {
   "cell_type": "code",
   "execution_count": null,
   "metadata": {
    "collapsed": true
   },
   "outputs": [],
   "source": []
  },
  {
   "cell_type": "code",
   "execution_count": null,
   "metadata": {
    "collapsed": true
   },
   "outputs": [],
   "source": []
  },
  {
   "cell_type": "code",
   "execution_count": null,
   "metadata": {
    "collapsed": true
   },
   "outputs": [],
   "source": []
  }
 ],
 "metadata": {
  "kernelspec": {
   "display_name": "Python 3",
   "language": "python",
   "name": "python3"
  },
  "language_info": {
   "codemirror_mode": {
    "name": "ipython",
    "version": 3
   },
   "file_extension": ".py",
   "mimetype": "text/x-python",
   "name": "python",
   "nbconvert_exporter": "python",
   "pygments_lexer": "ipython3",
   "version": "3.6.3"
  }
 },
 "nbformat": 4,
 "nbformat_minor": 2
}
