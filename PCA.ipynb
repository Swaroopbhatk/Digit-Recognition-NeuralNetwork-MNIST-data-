{
 "cells": [
  {
   "cell_type": "code",
   "execution_count": 7,
   "metadata": {
    "collapsed": true
   },
   "outputs": [],
   "source": [
    "# Import Libraries for one hot encoding to convert labels and plotting RMSE and Mean error against epoch to check performance\n",
    "import pandas as pd\n",
    "import numpy as np \n",
    "import matplotlib.pyplot as plt #To plot the reduction in error\n",
    "import sklearn # To plot ROC\n",
    "from sklearn import metrics #To plot confusion matrix\n",
    "import seaborn as sns #Heat map used for confusion matrix\n",
    "from mnist import MNIST # To unload the ubyte data - Image data set\n",
    "import itertools\n",
    "import time\n",
    "\n",
    "# Load the data set using MNIST library from your local directory\n",
    "mndata = MNIST('samples')\n",
    "images1, labels1 = mndata.load_training()\n",
    "# and\n",
    "images2, labels2 = mndata.load_testing()\n",
    "\n",
    "# Merge train dataset with class column\n",
    "train = pd.DataFrame(images1)\n",
    "train['Target'] = labels1\n",
    "\n",
    "# Merge test dataset with class column\n",
    "test = pd.DataFrame(images2)\n",
    "test['Target'] = labels2"
   ]
  },
  {
   "cell_type": "code",
   "execution_count": 8,
   "metadata": {
    "collapsed": true
   },
   "outputs": [],
   "source": [
    "train = train.loc[(train['Target'] == 3) | (train['Target'] == 9)]\n",
    "test = test.loc[(test['Target'] == 3) | (test['Target'] == 9)]\n",
    "\n",
    "# Shuffling the data\n",
    "train = train.sample(frac=1)\n",
    "test = test.sample(frac=1)"
   ]
  },
  {
   "cell_type": "code",
   "execution_count": 9,
   "metadata": {
    "collapsed": true
   },
   "outputs": [],
   "source": [
    "# Convert all feature attributes or pixels to matrix format\n",
    "train_y = train[\"Target\"]\n",
    "train_x = train.drop(['Target'], axis=1).as_matrix()\n",
    "\n",
    "test_y = test[\"Target\"]\n",
    "test_x = test.drop(['Target'], axis=1).as_matrix()\n",
    "\n",
    "# Normalize the features by dividing it with maximum pixel value.\n",
    "train_x = sklearn.preprocessing.normalize(train_x, norm='max')\n",
    "test_x = sklearn.preprocessing.normalize(test_x, norm='max')\n",
    "\n",
    "# Converting labels to numpy array\n",
    "train_y = np.asarray(train_y).reshape(len(train_y), 1)\n",
    "test_y = np.asarray(test_y).reshape(len(test_y), 1)\n",
    "train_y = np.where(train_y == 3, 0, 1).reshape(len(train_y), 1)\n",
    "test_y = np.where(test_y == 3, 0, 1).reshape(len(test_y), 1)"
   ]
  },
  {
   "cell_type": "markdown",
   "metadata": {},
   "source": [
    "### Principal Component Analysis (PCA) - Reduction in Dimensionality\n",
    "   Principal component analysis (PCA) is a statistical procedure that uses an orthogonal transformation to convert a set of\n",
    "   observations possibly correlated variables into a set of values of linearly uncorrelated variables called principal\n",
    "   components. The number of distinct principal components is equal to the smaller of the number of original variables or \n",
    "   the number of observations minus one. This transformation is defined in such a way that the first principal component has \n",
    "   the largest possible variance (that is, accounts for as much of the variability in the data as possible), and each \n",
    "   succeeding component in turn has the highest variance possible under the constraint that it is orthogonal to the preceding  \n",
    "   components.\n",
    "   Ref: https://en.wikipedia.org/wiki/Principal_component_analysis.\n",
    "   \n",
    "          Procedure to reduce dimensionality:\n",
    "           - First calculate (X.T * X) i.e find transpose of input matrix and multiply with the same (dot product).\n",
    "           - Calculate Eigen Values (Lambda) and Eigen Vectors (W) of the above.\n",
    "           - Eigen Value matrix is a ordered diagnol matrix. Where, each column in W represents principal components\n",
    "           - 1st principal component correspond to largest eigen value, explains highest variation in data and the 2nd column \n",
    "             W represents 2nd principal component corresponding to 2nd largest eigen value and so on.\n",
    "           - Now we need to select the number of transformed dimensions where it should explain most of the variance.\n",
    "           - Taking cut off as 95% variance in original data from below graph we are selectingg 400 transformed features to \n",
    "             train our model.\n",
    "           - For this decison we need to plot cummulative sum of eigen values (Lamdbda) in Y axis and number of transformed \n",
    "             features in x axis.\n",
    "           - Selected Number of dimension is 400.\n",
    "           - Using this transformed features to train Neural Network Model\n",
    "    \n",
    "Ref: https://www.youtube.com/watch?v=7WqWoEKUdQY&t=383s"
   ]
  },
  {
   "cell_type": "code",
   "execution_count": 10,
   "metadata": {},
   "outputs": [
    {
     "data": {
      "image/png": "[encoded data removed]",
      "text/plain": [
       "<matplotlib.figure.Figure at 0x303dc33240>"
      ]
     },
     "metadata": {},
     "output_type": "display_data"
    }
   ],
   "source": [
    "# Training Data\n",
    "c = np.dot(train_x.T, train_x)\n",
    "Lambda_tr, W_tr = np.linalg.eig(c)\n",
    "Lambda_tr = np.real(Lambda_tr)\n",
    "W_tr = np.real(W_tr)\n",
    "cum_sum = np.cumsum(Lambda_tr)\n",
    "per = cum_sum/cum_sum[-1]\n",
    "plt.ylabel(\"Percentage of Explained Variance\")\n",
    "plt.xlabel(\"Transformed Features\")\n",
    "plt.title(\"PCA Dimension Selection\",  size=15)\n",
    "plt.plot(per)\n",
    "plt.show()\n",
    "\n",
    "# Testing Data\n",
    "d = np.dot(test_x.T, test_x)\n",
    "Lambda_te, W_te = np.linalg.eig(d)\n",
    "Lambda_te = np.real(Lambda_te)\n",
    "W_te = np.real(W_te)"
   ]
  },
  {
   "cell_type": "code",
   "execution_count": 11,
   "metadata": {
    "collapsed": true
   },
   "outputs": [],
   "source": [
    "Tr_train_x = np.dot(train_x, W_tr[:,:400])\n",
    "Tr_test_x = np.dot(test_x, W_te[:,:400])\n",
    "\n",
    "# Transformed Training and Testing data\n",
    "train_x = Tr_train_x\n",
    "test_x = Tr_test_x"
   ]
  },
  {
   "cell_type": "code",
   "execution_count": null,
   "metadata": {
    "collapsed": true
   },
   "outputs": [],
   "source": []
  },
  {
   "cell_type": "code",
   "execution_count": null,
   "metadata": {
    "collapsed": true
   },
   "outputs": [],
   "source": []
  },
  {
   "cell_type": "code",
   "execution_count": 12,
   "metadata": {
    "collapsed": true
   },
   "outputs": [],
   "source": [
    "#0.0009 and 200\n",
    "class NeuralNet():\n",
    "    def __init__(self, train_x, train_y, test_x, \n",
    "                 test_y, hidden_layers = 2, hidden_node = 90, learning_rate=0.01, epoch=70, regParam=0.01):\n",
    "        self.op_node = 1                                # for binary classifier required output node should be 1.\n",
    "        self.learning_rate= learning_rate               # learning rate requied to apply on gradients\n",
    "        self.hidden_node = hidden_node                  # number of hidden nodes in each layer\n",
    "        self.hidden_layers = hidden_layers              # number of hidden layers ie. 1 or 2\n",
    "        self.train_x = train_x\n",
    "        self.train_y = train_y\n",
    "        self.test_x = test_x\n",
    "        self.test_y = test_y\n",
    "        self.input_node = train_x.shape[1]              # number of input nodes......ideally should be 784 \n",
    "        self.epoch = epoch                              # number of training epochs required \n",
    "        self.train_predict = None                       # to predict for training set\n",
    "        self.error = None                               # difference in actual and predict in training set\n",
    "        self.test_predict = None                        # to predict for testing set\n",
    "        self.regParam = regParam                        # regularisation term to control weight values\n",
    "        self.rmse = None                                # Root mean squared error \n",
    "        self.root_mse = None                            # Mean squared error\n",
    "        self.t = None\n",
    "\n",
    "        \n",
    "        np.random.seed(10)\n",
    "        # Initialising Random Weights\n",
    "        if self.hidden_layers == 1:\n",
    "            self.w1_ly1 = np.random.randn(self.input_node, self.hidden_node)  # shape is (784, number of hid. nodes in 1st layer)\n",
    "            self.b1_ly1 = np.zeros((1, self.hidden_node))                     # shape is (1, number of hid. nodes in 1st layer)\n",
    "            self.w2_ly2 = np.random.randn(self.hidden_node, self.op_node)     # shape is (number of hid. nodes in 1st layer, 1)\n",
    "            self.b2_ly2 = np.zeros((1, self.op_node))                         # shape is (1, 1)\n",
    "        \n",
    "        if self.hidden_layers == 2:\n",
    "            self.w1_ly1 = np.random.randn(self.input_node, self.hidden_node) # shape is (784, number of hid. nodes in 1st layer)\n",
    "            self.b1_ly1 = np.zeros((1, self.hidden_node))                    # shape is (1, number of hid. nodes in 1st layer)\n",
    "            self.w2_ly2 = np.random.randn(self.hidden_node, self.hidden_node)# shape is (number of hid. nodes in 1st layer, \n",
    "                                                                             #           number of hid. nodes in 2nd layer)\n",
    "            self.b2_ly2 = np.zeros((1, self.hidden_node))                    # shape is (1, number of hid. nodes in 2nd layer)\n",
    "            self.w3_ly3 = np.random.randn(self.hidden_node, self.op_node)    # shape is (number of hid. nodes in 2nd layer, 1)\n",
    "            self.b3_ly3 = np.zeros((1, self.op_node))                        # shape is (1, 1)\n",
    "            \n",
    "    \n",
    "    #Sigmoid Activation Function\n",
    "    def activation(self, z):\n",
    "        return 1 / (1 + np.exp(-z))\n",
    "        \n",
    "#****************************************************************************************************************************#        \n",
    "    # Update weights and biases using delta values derived from backpropogation\n",
    "    #         restricting the weights to certain limit. \n",
    "    # To update weights W = W - learning_rate*(Vd corrected + sqrt(Sd corrected + epsilon))\n",
    "    # To update bias b = b - learning_rate*(Vb corrected + sqrt(Sb corrected + epsilon))  \n",
    "    \n",
    "    def adam_gradient_descent(self, vdw1, vdw2, vb1, vb2, sdw1, sdw2, sb1, sb2, vdw3=0, vb3=0, sdw3=0, sb3=0):\n",
    "        epsilon = 0.0000001\n",
    "        \n",
    "        if self.hidden_layers ==1:\n",
    "            self.w1_ly1 = self.w1_ly1 - self.learning_rate*(vdw1/np.sqrt(sdw1+epsilon))\n",
    "            self.w2_ly2 = self.w2_ly2 - self.learning_rate*(vdw2/np.sqrt(sdw2+epsilon))\n",
    "            self.b1_ly1 = self.b1_ly1 - self.learning_rate*(vb1/np.sqrt(sb1+epsilon))\n",
    "            self.b2_ly2 = self.b2_ly2 - self.learning_rate*(vb2/np.sqrt(sb2+epsilon))\n",
    "        \n",
    "        if self.hidden_layers ==2:\n",
    "            self.w1_ly1 = self.w1_ly1 - self.learning_rate*(vdw1/np.sqrt(sdw1+epsilon))\n",
    "            self.w2_ly2 = self.w2_ly2 - self.learning_rate*(vdw2/np.sqrt(sdw2+epsilon))\n",
    "            self.w3_ly3 = self.w3_ly3 - self.learning_rate*(vdw3/np.sqrt(sdw3+epsilon))\n",
    "            self.b1_ly1 = self.b1_ly1 - self.learning_rate*(vb1/np.sqrt(sb1+epsilon))\n",
    "            self.b2_ly2 = self.b2_ly2 - self.learning_rate*(vb2/np.sqrt(sb2+epsilon))\n",
    "            self.b3_ly3 = self.b3_ly3 - self.learning_rate*(vb3/np.sqrt(sb3+epsilon))\n",
    "        \n",
    "        \n",
    "#******************************************************************************************************************************#\n",
    "#                                                TRAINING PHASE\n",
    "#******************************************************************************************************************************#\n",
    "    # Initialising all required parameters for Adam optimization\n",
    "    def trainNN(self):\n",
    "        rmse = []\n",
    "        root_mse = []\n",
    "        \n",
    "        for ep in range(self.epoch):\n",
    "            s = 0\n",
    "            error = []\n",
    "            act_func = []\n",
    "            self.t = 1\n",
    "            vdw1 = 0\n",
    "            vdw2 = 0\n",
    "            vdw3 = 0\n",
    "            sdw1 = 0\n",
    "            sdw2 = 0\n",
    "            sdw3 = 0\n",
    "            vb1 = 0\n",
    "            vb2 = 0\n",
    "            vb3 = 0\n",
    "            sb1 = 0\n",
    "            sb2 = 0\n",
    "            sb3 = 0\n",
    "            beta1 = 0.9\n",
    "            beta2 = 0.999\n",
    "            \n",
    "            for batch in [1000, 2000, 3000, 4000, 5000, 6000, 7000]: # No of batches for mini batch gradient descent\n",
    "                train_x = self.train_x[s:batch]                      # Creating the the 7 batches as it go throughs the loop\n",
    "                train_y = self.train_y[s:batch]\n",
    "                \n",
    "                s=s+len(train_x)                                     # This is used to calculate V corrected and S corrected\n",
    "                \n",
    "                if self.hidden_layers == 1:\n",
    "                    # Step 1: Forward Feed Working\n",
    "                    # For each layer from network, Perform:\n",
    "                    #     z = Wx + b\n",
    "                    #     sigmoid(z)\n",
    "                    # Get mean error and RMSE to check performance later on\n",
    "                    a1 = train_x\n",
    "                    z2 = np.dot(a1, self.w1_ly1) + self.b1_ly1\n",
    "                    a2 = self.activation(z2)\n",
    "                    z3 = np.dot(a2, self.w2_ly2) + self.b2_ly2\n",
    "                    a3 = self.activation(z3)\n",
    "                    er = a3 - train_y\n",
    "                    error.append(er)\n",
    "\n",
    "                    # Step 2: Backward propogation Working\n",
    "                    # It involves 2 task.\n",
    "                    #      getting delta value for output layer\n",
    "                    #      getting delta value for inner layers\n",
    "                    delta2 = er*a3*(1-a3)  # a3*(1-a3) is same as derivative of sigmoid finction\n",
    "                    delta1 = np.dot(delta2, self.w2_ly2.T)*a2*(1 - a2)\n",
    "                    tdelta2 = np.dot(a2.T, delta2)\n",
    "                    tdelta1 = np.dot(train_x.T, delta1)\n",
    "                    tb2 = np.sum(delta2, axis=0).reshape(1, self.op_node)\n",
    "                    tb1 = np.sum(delta1,axis=0).reshape(1, self.hidden_node)\n",
    "                    act_func.append(a3)\n",
    "                    \n",
    "                    # Computinh the all necessary parameters as mentioned in above description\n",
    "                    self.t = self.t+1\n",
    "                    vdw1 = ((vdw1*beta1)+((1-beta1)*tdelta1))/(1-beta1**self.t)\n",
    "                    vdw2 = ((vdw2*beta1)+((1-beta1)*tdelta2))/(1-beta1**self.t)\n",
    "                    vb1 = ((vb1*beta1)+((1-beta1)*tb1))/(1-beta1**self.t)\n",
    "                    vb2 = ((vb2*beta1)+((1-beta1)*tb2))/(1-beta1**self.t)\n",
    "                    sdw1 = ((sdw1*beta2)+((1-beta2)*np.square(tdelta1)))/(1-beta2**self.t)\n",
    "                    sdw2 = ((sdw2*beta2)+((1-beta2)*np.square(tdelta2)))/(1-beta2**self.t)\n",
    "                    sb1 = ((sb1*beta2)+((1-beta2)*np.square(tb1)))/(1-beta2**self.t)\n",
    "                    sb2 = ((sb2*beta2)+((1-beta2)*np.square(tb2)))/(1-beta2**self.t)\n",
    "                    self.adam_gradient_descent(vdw1, vdw2, vb1, vb2, sdw1, sdw2, sb1, sb2)\n",
    "\n",
    "                if self.hidden_layers == 2:\n",
    "                    # Step 1: Forward Feed Working\n",
    "                    # For each layer from network, Perform:\n",
    "                    #     z = Wx + b\n",
    "                    #     sigmoid(z)\n",
    "                    # Get mean error and RMSE to check performance later o\n",
    "                    a1 = train_x\n",
    "                    z2 = np.dot(a1, self.w1_ly1) + self.b1_ly1\n",
    "                    a2 = self.activation(z2)\n",
    "                    z3 = np.dot(a2, self.w2_ly2) + self.b2_ly2\n",
    "                    a3 = self.activation(z3)\n",
    "                    z4 = np.dot(a3, self.w3_ly3) + self.b3_ly3\n",
    "                    a4 = self.activation(z4)\n",
    "                    er = a4 - train_y\n",
    "                    error.append(er)\n",
    "\n",
    "                    # Step 2: Backward propogation Working\n",
    "                    # It involves 2 task.\n",
    "                    #      getting delta value for output layer\n",
    "                    #      getting delta value for inner layers\n",
    "                    delta2 = er*a3*(1-a3)  # a3*(1-a3) is same as derivative of sigmoid fincti\n",
    "                    delta3 = er*a4*(1-a4)\n",
    "                    delta2 = np.dot(delta3, self.w3_ly3.T)*a3*(1 - a3)\n",
    "                    delta1 = np.dot(delta2, self.w2_ly2.T)*a2*(1 - a2)\n",
    "                    tdelta3 = np.dot(a3.T, delta3)\n",
    "                    tdelta2 = np.dot(a2.T, delta2)\n",
    "                    tdelta1 = np.dot(train_x.T, delta1)\n",
    "                    tb3 = np.sum(delta3, axis=0).reshape(1, self.op_node)\n",
    "                    tb2 = np.sum(delta2,axis=0).reshape(1, self.hidden_node)\n",
    "                    tb1 = np.sum(delta1,axis=0).reshape(1, self.hidden_node)\n",
    "                    act_func.append(a4)\n",
    "                    \n",
    "                    # Computing the all necessary parameters as mentioned in above description\n",
    "                    self.t = self.t+1\n",
    "                    vdw1 = ((vdw1*beta1)+((1-beta1)*tdelta1))/(1-beta1**self.t)\n",
    "                    vdw2 = ((vdw2*beta1)+((1-beta1)*tdelta2))/(1-beta1**self.t)\n",
    "                    vdw3 = ((vdw3*beta1)+((1-beta1)*tdelta3))/(1-beta1**self.t)\n",
    "                    vb1 = ((vb1*beta1)+((1-beta1)*tb1))/(1-beta1**self.t)\n",
    "                    vb2 = ((vb2*beta1)+((1-beta1)*tb2))/(1-beta1**self.t)\n",
    "                    vb3 = ((vb3*beta1)+((1-beta1)*tb3))/(1-beta1**self.t)\n",
    "                    sdw1 = ((sdw1*beta2)+((1-beta2)*np.square(tdelta1)))/(1-beta2**self.t)\n",
    "                    sdw2 = ((sdw2*beta2)+((1-beta2)*np.square(tdelta2)))/(1-beta2**self.t)\n",
    "                    sdw3 = ((sdw3*beta2)+((1-beta2)*np.square(tdelta3)))/(1-beta2**self.t)\n",
    "                    sb1 = ((sb1*beta2)+((1-beta2)*np.square(tb1)))/(1-beta2**self.t)\n",
    "                    sb2 = ((sb2*beta2)+((1-beta2)*np.square(tb2)))/(1-beta2**self.t)\n",
    "                    sb3 = ((sb3*beta2)+((1-beta2)*np.square(tb3)))/(1-beta2**self.t)\n",
    "                    # Calling adam_gradient_descent function to update weights\n",
    "                    self.adam_gradient_descent(vdw1, vdw2, vb1, vb2, sdw1, sdw2, sb1, sb2, vdw3, vb3, sdw3, sb3)\n",
    "                    \n",
    "            # These are used to calculate mean error and rmse for plotting      \n",
    "            act_func = list(itertools.chain.from_iterable(act_func))\n",
    "            error = list(itertools.chain.from_iterable(error))\n",
    "            act_func = np.asarray(act_func).reshape(len(act_func), 1)\n",
    "            error = np.asarray(error).reshape(len(error), 1)\n",
    "            mean_error = np.sum(error)/len(error)\n",
    "            rmse.append(mean_error)\n",
    "            root_error = np.sqrt(np.sum(error**2)/len(error))\n",
    "            root_mse.append(root_error)\n",
    "            self.error = np.asarray(error)\n",
    "            self.train_predict = np.asarray(act_func)\n",
    "            \n",
    "            # To keep track of our training.\n",
    "            if ep in [1, 4, 6, 10, 20, 30, 40, 50, 60, 65, 69, 99]:\n",
    "                accuracy = 1-np.sum(abs(np.asarray(error)))/len(np.asarray(error))\n",
    "                print(\"Accuracy is:  {0:.4f}, for epoch:{1}\".format(accuracy, ep))\n",
    "                    \n",
    "        self.rmse = rmse\n",
    "        self.root_mse = root_mse\n",
    "        \n",
    "#*******************************************************************************************************************************#\n",
    "#                                               TESTING PHASE\n",
    "#*******************************************************************************************************************************#\n",
    "        \n",
    "    def predict_digit(self):\n",
    "        \n",
    "        if self.hidden_layers == 1:\n",
    "                #Forward Feed\n",
    "                a1 = self.test_x\n",
    "                z2 = np.dot(a1, self.w1_ly1) + self.b1_ly1\n",
    "                a2 = self.activation(z2)\n",
    "                z3 = np.dot(a2, self.w2_ly2) + self.b2_ly2\n",
    "                a3 = self.activation(z3)\n",
    "                \n",
    "                self.test_predict = np.round(a3)\n",
    "        \n",
    "        if self.hidden_layers == 2:\n",
    "                #Forward Propogation\n",
    "                a1 = self.test_x\n",
    "                z2 = np.dot(a1, self.w1_ly1) + self.b1_ly1\n",
    "                a2 = self.activation(z2)\n",
    "                z3 = np.dot(a2, self.w2_ly2) + self.b2_ly2\n",
    "                a3 = self.activation(z3)\n",
    "                z4 = np.dot(a3, self.w3_ly3) + self.b3_ly3\n",
    "                a4 = self.activation(z4)\n",
    "                \n",
    "                self.test_predict = np.round(a4)"
   ]
  },
  {
   "cell_type": "code",
   "execution_count": 13,
   "metadata": {},
   "outputs": [
    {
     "name": "stdout",
     "output_type": "stream",
     "text": [
      "Accuracy is:  0.5194, for epoch:1\n",
      "Accuracy is:  0.7254, for epoch:4\n",
      "Accuracy is:  0.8242, for epoch:6\n",
      "Accuracy is:  0.8825, for epoch:10\n",
      "Accuracy is:  0.9415, for epoch:20\n",
      "Accuracy is:  0.9734, for epoch:30\n",
      "Accuracy is:  0.9825, for epoch:40\n",
      "Accuracy is:  0.9866, for epoch:50\n",
      "Accuracy is:  0.9893, for epoch:60\n",
      "Accuracy is:  0.9902, for epoch:65\n",
      "Accuracy is:  0.9901, for epoch:69\n",
      "Accuracy is:  0.9936, for epoch:99\n"
     ]
    },
    {
     "data": {
      "image/png": "[encoded data removed]",
      "text/plain": [
       "<matplotlib.figure.Figure at 0x3009e3c550>"
      ]
     },
     "metadata": {},
     "output_type": "display_data"
    },
    {
     "data": {
      "image/png": "[encoded data removed]",
      "text/plain": [
       "<matplotlib.figure.Figure at 0x3009e477b8>"
      ]
     },
     "metadata": {},
     "output_type": "display_data"
    },
    {
     "data": {
      "image/png": "[encoded data removed]",
      "text/plain": [
       "<matplotlib.figure.Figure at 0x3067a60400>"
      ]
     },
     "metadata": {},
     "output_type": "display_data"
    },
    {
     "data": {
      "image/png": "[encoded data removed]",
      "text/plain": [
       "<matplotlib.figure.Figure at 0x306bef9f60>"
      ]
     },
     "metadata": {},
     "output_type": "display_data"
    },
    {
     "name": "stdout",
     "output_type": "stream",
     "text": [
      "Test Accuracy:  0.882615156018\n",
      "Elapsed Time For Training is:  17.166849851608276\n"
     ]
    }
   ],
   "source": [
    "# Implementation of Adam Optimization\n",
    "#*****************************************************************************************\n",
    "\n",
    "start_time = time.time()                                    # Start the time to check the execution time\n",
    "\n",
    "# Starting model with training of network\n",
    "pca = NeuralNet(train_x, train_y, test_x, test_y)\n",
    "pca.trainNN()\n",
    "\n",
    "# Use the trained model to predict digits\n",
    "# Testing the model once we have statisfied with the result of training\n",
    "# Note: Test set or held out set is never used to evaluate the model during the training phase\n",
    "pca.predict_digit()\n",
    "\n",
    "# Check performance by plotting RMSE and Mean Error (Mean Error can be -ve or +ve)\n",
    "plt.plot(pca.root_mse)\n",
    "plt.title(\"RMSE vs Epoch - Training Phase\")\n",
    "plt.xlabel(\"Number of Epoch\")\n",
    "plt.ylabel(\"RMSE\")\n",
    "plt.show()\n",
    "\n",
    "\n",
    "plt.plot(pca.rmse)\n",
    "plt.title(\"Mean Error vs Epoch - Training Phase\")\n",
    "plt.xlabel(\"Number of Epoch\")\n",
    "plt.ylabel(\"Mean Error\")\n",
    "plt.show()\n",
    "\n",
    "# Ploting ROC curve for testing phase or model evaluation\n",
    "fpr, tpr, thresholds = sklearn.metrics.roc_curve(pca.test_y, pca.test_predict, \n",
    "                                                 pos_label=None, sample_weight=None, drop_intermediate=True)\n",
    "plt.plot(fpr, tpr)\n",
    "plt.title(\"ROC - Test Phase\")\n",
    "plt.xlabel(\"False Positive Rate\")\n",
    "plt.ylabel(\"True Positive Rate\")\n",
    "plt.show()\n",
    "\n",
    "# Generate Confusion Matrix\n",
    "ax=plt.axes()\n",
    "arr = metrics.confusion_matrix(pca.test_y, pca.test_predict, sample_weight=None)\n",
    "con_df = pd.DataFrame(arr, columns = [\"Predicted_0\", \"Predicted_1\"], index=[\"Actual_0\", \"Actual_1\"])\n",
    "sns.heatmap(con_df, annot=True,annot_kws={\"size\": 8}, fmt='g', cmap='Blues', ax=ax)\n",
    "ax.set_title('Confusion Matrix - Test Phase')\n",
    "plt.show()\n",
    "\n",
    "accpca = 1-np.sum(abs(pca.test_y - pca.test_predict))/len(pca.test_predict)\n",
    "print('Test Accuracy: ', accpca)\n",
    "elapsed_time3 = time.time() - start_time\n",
    "print(\"Elapsed Time For Training is: \", elapsed_time3)"
   ]
  },
  {
   "cell_type": "code",
   "execution_count": 14,
   "metadata": {},
   "outputs": [
    {
     "data": {
      "text/plain": [
       "array([[1],\n",
       "       [1],\n",
       "       [1],\n",
       "       ..., \n",
       "       [1],\n",
       "       [1],\n",
       "       [1]])"
      ]
     },
     "execution_count": 14,
     "metadata": {},
     "output_type": "execute_result"
    }
   ],
   "source": [
    "test_y"
   ]
  },
  {
   "cell_type": "code",
   "execution_count": 15,
   "metadata": {},
   "outputs": [
    {
     "data": {
      "text/plain": [
       "array([[ 0.],\n",
       "       [ 1.],\n",
       "       [ 1.],\n",
       "       ..., \n",
       "       [ 1.],\n",
       "       [ 1.],\n",
       "       [ 1.]])"
      ]
     },
     "execution_count": 15,
     "metadata": {},
     "output_type": "execute_result"
    }
   ],
   "source": [
    "pca.test_predict"
   ]
  },
  {
   "cell_type": "code",
   "execution_count": null,
   "metadata": {
    "collapsed": true
   },
   "outputs": [],
   "source": []
  },
  {
   "cell_type": "code",
   "execution_count": null,
   "metadata": {
    "collapsed": true
   },
   "outputs": [],
   "source": []
  }
 ],
 "metadata": {
  "kernelspec": {
   "display_name": "Python 3",
   "language": "python",
   "name": "python3"
  },
  "language_info": {
   "codemirror_mode": {
    "name": "ipython",
    "version": 3
   },
   "file_extension": ".py",
   "mimetype": "text/x-python",
   "name": "python",
   "nbconvert_exporter": "python",
   "pygments_lexer": "ipython3",
   "version": "3.6.3"
  }
 },
 "nbformat": 4,
 "nbformat_minor": 2
}
